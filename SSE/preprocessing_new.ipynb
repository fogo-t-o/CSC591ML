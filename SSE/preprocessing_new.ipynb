{
 "cells": [
  {
   "cell_type": "code",
   "execution_count": 1,
   "metadata": {
    "colab": {
     "base_uri": "https://localhost:8080/",
     "height": 35
    },
    "colab_type": "code",
    "id": "pZuyUqmQbTuA",
    "outputId": "aad3cf90-f091-4b24-9b19-cdcf8d5599a4"
   },
   "outputs": [],
   "source": [
    "# from google.colab import drive\n",
    "# drive.mount('/content/drive')"
   ]
  },
  {
   "cell_type": "code",
   "execution_count": 48,
   "metadata": {
    "colab": {},
    "colab_type": "code",
    "id": "qwiVRfAGbLmk",
    "lines_to_next_cell": 1
   },
   "outputs": [],
   "source": [
    "import glob\n",
    "import pandas as pd\n",
    "from sklearn.preprocessing import StandardScaler\n",
    "import matplotlib.pyplot as plt\n",
    "from matplotlib.colors import ListedColormap\n",
    "import seaborn as sn\n",
    "import os\n",
    "import csv\n",
    "import numpy as np\n",
    "import tensorflow as tf"
   ]
  },
  {
   "cell_type": "code",
   "execution_count": 3,
   "metadata": {
    "colab": {},
    "colab_type": "code",
    "id": "MBvkOay3bLmu"
   },
   "outputs": [],
   "source": [
    "def read_user_data():\n",
    "    \"\"\"\n",
    "    A function that reads all the user data and prepares them for future use\n",
    "    :return: a list of all the user data\n",
    "    \"\"\"\n",
    "    \n",
    "    # path of the dataset\n",
    "    path = './EMG_data_for_gestures-master/'  \n",
    "    \n",
    "    # a list holding the data for all 36 users\n",
    "    user_data = []\n",
    "\n",
    "    for i in range(36):  # since there are 36 users\n",
    "        all_files = glob.glob(path + \"{}/*.txt\".format(i+1))\n",
    "        \n",
    "        # two files for each user, hence two dataframes\n",
    "        file = [pd.DataFrame() for _ in range(2)]\n",
    "        \n",
    "        # read both files for each user\n",
    "        for j, filename in enumerate(all_files):\n",
    "            file[j] = pd.read_csv(filename, sep = \"\\t\")\n",
    "            \n",
    "        merged_df = pd.concat([file[0], file[1]], axis=0, ignore_index=True)\n",
    "        #merged_df = file[0]\n",
    "        \n",
    "        #user_data.append(merged_df.sort_values(by=['time']))\n",
    "        user_data.append(merged_df)\n",
    "        \n",
    "    return user_data"
   ]
  },
  {
   "cell_type": "code",
   "execution_count": 4,
   "metadata": {
    "colab": {},
    "colab_type": "code",
    "id": "ZjClwt8obLm1"
   },
   "outputs": [],
   "source": [
    "def get_summary_stats(user_data):\n",
    "    \"\"\"\n",
    "    A function that computes the summary statistics of the list of user_data\n",
    "    \"\"\"\n",
    "\n",
    "    columns = [\"mean\", \"SD\", \"min\", \"max\"]\n",
    "\n",
    "    summary_stats = []\n",
    "    for user in user_data:\n",
    "        means = user.mean(axis=0).to_frame()\n",
    "        std = user.std(axis=0).to_frame()\n",
    "        mini = user.min(axis=0).to_frame()\n",
    "        maxm = user.max(axis=0).to_frame()\n",
    "        result = pd.concat([means, std, mini, maxm], axis=1, ignore_index=True)\n",
    "        result.columns = columns\n",
    "        summary_stats.append(result)\n",
    "\n",
    "    f = open(\"summary_stats.txt\", \"w+\")\n",
    "    f.write(\"Summary stats for all users\\n\\n\")\n",
    "\n",
    "    for i, summary in enumerate(summary_stats):\n",
    "        f.write(\"---- user {} ----\\n\".format(i+1))\n",
    "        f.write(str(summary))\n",
    "        f.write(\"\\n\\n\")\n",
    "\n",
    "    f.close()\n",
    "    "
   ]
  },
  {
   "cell_type": "code",
   "execution_count": 5,
   "metadata": {
    "colab": {},
    "colab_type": "code",
    "id": "1RdFxy5obLm7"
   },
   "outputs": [],
   "source": [
    "def get_class_distribution(user_data):\n",
    "    counts = []\n",
    "    \n",
    "    f = open(\"class_distribution.txt\", \"w+\")\n",
    "    f.write(\"Class distributions stats for all users\\n\\n\")\n",
    "    \n",
    "    for i, user in enumerate(user_data):\n",
    "        f.write(\"---- user {} ----\\n\".format(i+1))\n",
    "        count = pd.DataFrame(user['class'].value_counts())\n",
    "        f.write(str(count))\n",
    "        f.write(\"\\n\\n\")\n",
    "        counts.append(count)\n",
    "        \n",
    "    f.close()\n",
    "        \n",
    "    return counts"
   ]
  },
  {
   "cell_type": "code",
   "execution_count": 6,
   "metadata": {
    "colab": {},
    "colab_type": "code",
    "id": "PYq3OLfNbLnB"
   },
   "outputs": [],
   "source": [
    "# get all the user data\n",
    "user_data = read_user_data()\n",
    "\n",
    "# drop null values\n",
    "for user in user_data:\n",
    "    user.dropna(inplace=True)"
   ]
  },
  {
   "cell_type": "code",
   "execution_count": 7,
   "metadata": {
    "colab": {},
    "colab_type": "code",
    "id": "2xb9wqQRbLnI"
   },
   "outputs": [],
   "source": [
    "get_summary_stats(user_data)"
   ]
  },
  {
   "cell_type": "code",
   "execution_count": 8,
   "metadata": {
    "colab": {},
    "colab_type": "code",
    "id": "pqnZudR0bLnP"
   },
   "outputs": [],
   "source": [
    "class_dis = get_class_distribution(user_data)"
   ]
  },
  {
   "cell_type": "code",
   "execution_count": 9,
   "metadata": {
    "colab": {},
    "colab_type": "code",
    "id": "ML0clQinbLnW"
   },
   "outputs": [],
   "source": [
    "def normalize_data(user_data):\n",
    "\n",
    "    # concatenate all the user data\n",
    "    df = pd.concat(user_data)\n",
    "\n",
    "    # the time column\n",
    "    tim = pd.DataFrame(df['time'])\n",
    "\n",
    "    # the class column\n",
    "    clas = pd.DataFrame(df['class'])\n",
    "\n",
    "    # drop time from the dataset so that we don't scale the timestamps\n",
    "    df.drop(['time', 'class'], axis=1, inplace=True)\n",
    "\n",
    "    # Get the headers from the list\n",
    "    headers = list(df)\n",
    "\n",
    "    scaler = StandardScaler()\n",
    "    scaled_values = pd.DataFrame(scaler.fit_transform(df), columns = headers, index = df.index)\n",
    "    \n",
    "    # concatenate the data after scaling it\n",
    "    df_new = pd.concat([tim, clas, scaled_values], axis=1)\n",
    "    df_new = df_new.astype({'class': 'int32'})\n",
    "    \n",
    "    return df_new"
   ]
  },
  {
   "cell_type": "code",
   "execution_count": 10,
   "metadata": {
    "colab": {
     "base_uri": "https://localhost:8080/",
     "height": 417
    },
    "colab_type": "code",
    "id": "_ejEk2v7bLnf",
    "outputId": "bf515c8d-d751-4fb1-949c-b01fa4c1a6dd"
   },
   "outputs": [
    {
     "data": {
      "text/html": [
       "<div>\n",
       "<style scoped>\n",
       "    .dataframe tbody tr th:only-of-type {\n",
       "        vertical-align: middle;\n",
       "    }\n",
       "\n",
       "    .dataframe tbody tr th {\n",
       "        vertical-align: top;\n",
       "    }\n",
       "\n",
       "    .dataframe thead th {\n",
       "        text-align: right;\n",
       "    }\n",
       "</style>\n",
       "<table border=\"1\" class=\"dataframe\">\n",
       "  <thead>\n",
       "    <tr style=\"text-align: right;\">\n",
       "      <th></th>\n",
       "      <th>time</th>\n",
       "      <th>class</th>\n",
       "      <th>channel1</th>\n",
       "      <th>channel2</th>\n",
       "      <th>channel3</th>\n",
       "      <th>channel4</th>\n",
       "      <th>channel5</th>\n",
       "      <th>channel6</th>\n",
       "      <th>channel7</th>\n",
       "      <th>channel8</th>\n",
       "    </tr>\n",
       "  </thead>\n",
       "  <tbody>\n",
       "    <tr>\n",
       "      <th>0</th>\n",
       "      <td>1</td>\n",
       "      <td>0</td>\n",
       "      <td>0.109812</td>\n",
       "      <td>-0.088774</td>\n",
       "      <td>-0.003634</td>\n",
       "      <td>-0.090189</td>\n",
       "      <td>0.058723</td>\n",
       "      <td>0.003975</td>\n",
       "      <td>0.061315</td>\n",
       "      <td>-0.001761</td>\n",
       "    </tr>\n",
       "    <tr>\n",
       "      <th>1</th>\n",
       "      <td>5</td>\n",
       "      <td>0</td>\n",
       "      <td>0.109812</td>\n",
       "      <td>-0.088774</td>\n",
       "      <td>-0.003634</td>\n",
       "      <td>-0.090189</td>\n",
       "      <td>0.058723</td>\n",
       "      <td>0.003975</td>\n",
       "      <td>0.061315</td>\n",
       "      <td>-0.001761</td>\n",
       "    </tr>\n",
       "    <tr>\n",
       "      <th>2</th>\n",
       "      <td>6</td>\n",
       "      <td>0</td>\n",
       "      <td>-0.012804</td>\n",
       "      <td>0.162855</td>\n",
       "      <td>0.237942</td>\n",
       "      <td>0.042688</td>\n",
       "      <td>0.095431</td>\n",
       "      <td>-0.042506</td>\n",
       "      <td>-0.004160</td>\n",
       "      <td>0.114455</td>\n",
       "    </tr>\n",
       "    <tr>\n",
       "      <th>3</th>\n",
       "      <td>7</td>\n",
       "      <td>0</td>\n",
       "      <td>-0.012804</td>\n",
       "      <td>0.162855</td>\n",
       "      <td>0.237942</td>\n",
       "      <td>0.042688</td>\n",
       "      <td>0.095431</td>\n",
       "      <td>-0.042506</td>\n",
       "      <td>-0.004160</td>\n",
       "      <td>0.114455</td>\n",
       "    </tr>\n",
       "    <tr>\n",
       "      <th>4</th>\n",
       "      <td>8</td>\n",
       "      <td>0</td>\n",
       "      <td>-0.012804</td>\n",
       "      <td>0.162855</td>\n",
       "      <td>0.237942</td>\n",
       "      <td>0.042688</td>\n",
       "      <td>0.095431</td>\n",
       "      <td>-0.042506</td>\n",
       "      <td>-0.004160</td>\n",
       "      <td>0.114455</td>\n",
       "    </tr>\n",
       "    <tr>\n",
       "      <th>...</th>\n",
       "      <td>...</td>\n",
       "      <td>...</td>\n",
       "      <td>...</td>\n",
       "      <td>...</td>\n",
       "      <td>...</td>\n",
       "      <td>...</td>\n",
       "      <td>...</td>\n",
       "      <td>...</td>\n",
       "      <td>...</td>\n",
       "      <td>...</td>\n",
       "    </tr>\n",
       "    <tr>\n",
       "      <th>101749</th>\n",
       "      <td>50962</td>\n",
       "      <td>0</td>\n",
       "      <td>0.109812</td>\n",
       "      <td>-0.004898</td>\n",
       "      <td>-0.084159</td>\n",
       "      <td>-0.134481</td>\n",
       "      <td>-0.381775</td>\n",
       "      <td>0.050457</td>\n",
       "      <td>0.192264</td>\n",
       "      <td>0.172563</td>\n",
       "    </tr>\n",
       "    <tr>\n",
       "      <th>101750</th>\n",
       "      <td>50963</td>\n",
       "      <td>0</td>\n",
       "      <td>0.109812</td>\n",
       "      <td>-0.004898</td>\n",
       "      <td>-0.084159</td>\n",
       "      <td>-0.134481</td>\n",
       "      <td>-0.381775</td>\n",
       "      <td>0.050457</td>\n",
       "      <td>0.192264</td>\n",
       "      <td>0.172563</td>\n",
       "    </tr>\n",
       "    <tr>\n",
       "      <th>101751</th>\n",
       "      <td>50964</td>\n",
       "      <td>0</td>\n",
       "      <td>0.109812</td>\n",
       "      <td>-0.004898</td>\n",
       "      <td>-0.084159</td>\n",
       "      <td>-0.134481</td>\n",
       "      <td>-0.381775</td>\n",
       "      <td>0.050457</td>\n",
       "      <td>0.192264</td>\n",
       "      <td>0.172563</td>\n",
       "    </tr>\n",
       "    <tr>\n",
       "      <th>101752</th>\n",
       "      <td>50965</td>\n",
       "      <td>0</td>\n",
       "      <td>0.109812</td>\n",
       "      <td>-0.004898</td>\n",
       "      <td>-0.084159</td>\n",
       "      <td>-0.134481</td>\n",
       "      <td>-0.381775</td>\n",
       "      <td>0.050457</td>\n",
       "      <td>0.192264</td>\n",
       "      <td>0.172563</td>\n",
       "    </tr>\n",
       "    <tr>\n",
       "      <th>101753</th>\n",
       "      <td>50966</td>\n",
       "      <td>0</td>\n",
       "      <td>0.109812</td>\n",
       "      <td>-0.004898</td>\n",
       "      <td>-0.084159</td>\n",
       "      <td>-0.134481</td>\n",
       "      <td>-0.381775</td>\n",
       "      <td>0.050457</td>\n",
       "      <td>0.192264</td>\n",
       "      <td>0.172563</td>\n",
       "    </tr>\n",
       "  </tbody>\n",
       "</table>\n",
       "<p>4237908 rows × 10 columns</p>\n",
       "</div>"
      ],
      "text/plain": [
       "         time  class  channel1  channel2  channel3  channel4  channel5  \\\n",
       "0           1      0  0.109812 -0.088774 -0.003634 -0.090189  0.058723   \n",
       "1           5      0  0.109812 -0.088774 -0.003634 -0.090189  0.058723   \n",
       "2           6      0 -0.012804  0.162855  0.237942  0.042688  0.095431   \n",
       "3           7      0 -0.012804  0.162855  0.237942  0.042688  0.095431   \n",
       "4           8      0 -0.012804  0.162855  0.237942  0.042688  0.095431   \n",
       "...       ...    ...       ...       ...       ...       ...       ...   \n",
       "101749  50962      0  0.109812 -0.004898 -0.084159 -0.134481 -0.381775   \n",
       "101750  50963      0  0.109812 -0.004898 -0.084159 -0.134481 -0.381775   \n",
       "101751  50964      0  0.109812 -0.004898 -0.084159 -0.134481 -0.381775   \n",
       "101752  50965      0  0.109812 -0.004898 -0.084159 -0.134481 -0.381775   \n",
       "101753  50966      0  0.109812 -0.004898 -0.084159 -0.134481 -0.381775   \n",
       "\n",
       "        channel6  channel7  channel8  \n",
       "0       0.003975  0.061315 -0.001761  \n",
       "1       0.003975  0.061315 -0.001761  \n",
       "2      -0.042506 -0.004160  0.114455  \n",
       "3      -0.042506 -0.004160  0.114455  \n",
       "4      -0.042506 -0.004160  0.114455  \n",
       "...          ...       ...       ...  \n",
       "101749  0.050457  0.192264  0.172563  \n",
       "101750  0.050457  0.192264  0.172563  \n",
       "101751  0.050457  0.192264  0.172563  \n",
       "101752  0.050457  0.192264  0.172563  \n",
       "101753  0.050457  0.192264  0.172563  \n",
       "\n",
       "[4237908 rows x 10 columns]"
      ]
     },
     "execution_count": 10,
     "metadata": {},
     "output_type": "execute_result"
    }
   ],
   "source": [
    "normalized_data = normalize_data(user_data)\n",
    "normalized_data"
   ]
  },
  {
   "cell_type": "code",
   "execution_count": 11,
   "metadata": {
    "colab": {
     "base_uri": "https://localhost:8080/",
     "height": 635
    },
    "colab_type": "code",
    "id": "OYRRLQwwbLno",
    "outputId": "2161a533-2cfa-4fcb-9816-c321c6a8604f"
   },
   "outputs": [
    {
     "data": {
      "image/png": "[encoded data removed]",
      "text/plain": [
       "<Figure size 864x720 with 2 Axes>"
      ]
     },
     "metadata": {
      "needs_background": "light"
     },
     "output_type": "display_data"
    }
   ],
   "source": [
    "cor = normalized_data.iloc [0: , 2:]\n",
    "\n",
    "\n",
    "# calculate the correlation matrix\n",
    "corr = cor.corr()\n",
    "corr.to_csv('correlation.csv')\n",
    "\n",
    "# plot the heatmap\n",
    "plt.figure(1, figsize=(12, 10))\n",
    "\n",
    "ax = sn.heatmap(corr, xticklabels=corr.columns, yticklabels=corr.columns, annot=True, annot_kws={\"fontsize\":11, \"weight\": \"bold\"}, cmap=\"GnBu\")\n",
    "ax.set_title('correlation between features', fontsize=20)\n",
    "\n",
    "plt.xticks(rotation=20, fontsize=13)\n",
    "plt.yticks(rotation=0, fontsize=13)\n",
    "bottom, top = ax.get_ylim()\n",
    "ax.set_ylim(bottom + 0.5, top - 0.5)\n",
    "\n",
    "# for tick in ax.get_xticklabels():\n",
    "#     tick.set_rotation(90)\n",
    "\n",
    "\n",
    "plt.savefig('corr_plot.png', dpi=500)\n",
    "plt.show()"
   ]
  },
  {
   "cell_type": "code",
   "execution_count": 12,
   "metadata": {
    "colab": {
     "base_uri": "https://localhost:8080/",
     "height": 255
    },
    "colab_type": "code",
    "id": "PRP2yUcabLnw",
    "outputId": "28dd80f5-5422-4dff-a271-debde523f4f5"
   },
   "outputs": [
    {
     "ename": "NameError",
     "evalue": "name 'normal_data' is not defined",
     "output_type": "error",
     "traceback": [
      "\u001b[1;31m---------------------------------------------------------------------------\u001b[0m",
      "\u001b[1;31mNameError\u001b[0m                                 Traceback (most recent call last)",
      "\u001b[1;32m<ipython-input-12-7b705e2fe609>\u001b[0m in \u001b[0;36m<module>\u001b[1;34m\u001b[0m\n\u001b[0;32m      1\u001b[0m \u001b[1;32mfor\u001b[0m \u001b[0mi\u001b[0m \u001b[1;32min\u001b[0m \u001b[0mrange\u001b[0m\u001b[1;33m(\u001b[0m\u001b[1;36m36\u001b[0m\u001b[1;33m)\u001b[0m\u001b[1;33m:\u001b[0m\u001b[1;33m\u001b[0m\u001b[1;33m\u001b[0m\u001b[0m\n\u001b[0;32m      2\u001b[0m     \u001b[0mplt\u001b[0m\u001b[1;33m.\u001b[0m\u001b[0mfigure\u001b[0m\u001b[1;33m(\u001b[0m\u001b[0mi\u001b[0m\u001b[1;33m,\u001b[0m \u001b[0mfigsize\u001b[0m\u001b[1;33m=\u001b[0m\u001b[1;33m(\u001b[0m\u001b[1;36m20\u001b[0m\u001b[1;33m,\u001b[0m \u001b[1;36m22\u001b[0m\u001b[1;33m)\u001b[0m\u001b[1;33m)\u001b[0m\u001b[1;33m\u001b[0m\u001b[1;33m\u001b[0m\u001b[0m\n\u001b[1;32m----> 3\u001b[1;33m     \u001b[0max2\u001b[0m \u001b[1;33m=\u001b[0m \u001b[0mnormal_data\u001b[0m\u001b[1;33m[\u001b[0m\u001b[0mi\u001b[0m\u001b[1;33m]\u001b[0m\u001b[1;33m.\u001b[0m\u001b[0mplot\u001b[0m\u001b[1;33m(\u001b[0m\u001b[0mx\u001b[0m\u001b[1;33m=\u001b[0m\u001b[1;34m'time'\u001b[0m\u001b[1;33m,\u001b[0m \u001b[0my\u001b[0m\u001b[1;33m=\u001b[0m\u001b[1;34m'class'\u001b[0m\u001b[1;33m,\u001b[0m \u001b[0mkind\u001b[0m\u001b[1;33m=\u001b[0m\u001b[1;34m'scatter'\u001b[0m\u001b[1;33m)\u001b[0m\u001b[1;33m\u001b[0m\u001b[1;33m\u001b[0m\u001b[0m\n\u001b[0m\u001b[0;32m      4\u001b[0m     \u001b[0max2\u001b[0m\u001b[1;33m.\u001b[0m\u001b[0mset_title\u001b[0m\u001b[1;33m(\u001b[0m\u001b[1;34m'Distribution of classes'\u001b[0m\u001b[1;33m,\u001b[0m \u001b[0mfontsize\u001b[0m\u001b[1;33m=\u001b[0m\u001b[1;36m20\u001b[0m\u001b[1;33m)\u001b[0m\u001b[1;33m\u001b[0m\u001b[1;33m\u001b[0m\u001b[0m\n\u001b[0;32m      5\u001b[0m     \u001b[1;31m#plt.xlim(0, 10000)\u001b[0m\u001b[1;33m\u001b[0m\u001b[1;33m\u001b[0m\u001b[1;33m\u001b[0m\u001b[0m\n",
      "\u001b[1;31mNameError\u001b[0m: name 'normal_data' is not defined"
     ]
    },
    {
     "data": {
      "text/plain": [
       "<Figure size 1440x1584 with 0 Axes>"
      ]
     },
     "metadata": {},
     "output_type": "display_data"
    }
   ],
   "source": [
    "for i in range(36):\n",
    "    plt.figure(i, figsize=(20, 22))\n",
    "    ax2 = normal_data[i].plot(x='time', y='class', kind='scatter')\n",
    "    ax2.set_title('Distribution of classes', fontsize=20)\n",
    "    #plt.xlim(0, 10000)\n",
    "    folder = \"./drive/My Drive/EMG_data_for_gestures-master/images/test/\"\n",
    "    os.makedirs(folder, exist_ok=True)\n",
    "    plt.savefig('{}class_{}.png'.format(folder, i + 1), dpi=500)\n",
    "    plt.show()\n",
    "    break"
   ]
  },
  {
   "cell_type": "code",
   "execution_count": 31,
   "metadata": {
    "colab": {},
    "colab_type": "code",
    "id": "-KkiAhxIbLn5"
   },
   "outputs": [],
   "source": [
    "def normalize_df(df):\n",
    "    # the time column\n",
    "    tim = pd.DataFrame(df['time'])\n",
    "\n",
    "    # the class column\n",
    "    clas = pd.DataFrame(df['class'])\n",
    "\n",
    "    # drop time from the dataset so that we don't scale the timestamps\n",
    "    df_new = df.drop(['time', 'class'], axis=1)\n",
    "\n",
    "    # Get the headers from the list\n",
    "    headers = list(df_new)\n",
    "\n",
    "    scaler = StandardScaler()\n",
    "    scaled_values = pd.DataFrame(scaler.fit_transform(df_new), columns = headers, index = df_new.index)\n",
    "    \n",
    "    # concatenate the data after scaling it\n",
    "    df_updated = pd.concat([tim, clas, scaled_values], axis=1)\n",
    "    df_updated = df_updated.astype({'class': 'int32'})\n",
    "    return df_updated\n",
    "\n",
    "# normal_data = []\n",
    "# folder = \"normalized\"\n",
    "# os.makedirs(folder, exist_ok=True)\n",
    "# for i, df in enumerate(user_data):\n",
    "#     new_df = df[df[\"class\"] < 7]\n",
    "#     #new_df = df[df[\"class\"] > 0]\n",
    "#     normalized_df = normalize_df(new_df)\n",
    "#     #normalized_df.to_csv(\"./{}/{}.csv\".format(folder, i + 1))\n",
    "#     normal_data.append(normalized_df)"
   ]
  },
  {
   "cell_type": "code",
   "execution_count": 32,
   "metadata": {
    "colab": {},
    "colab_type": "code",
    "id": "kKPfurHkbLoP"
   },
   "outputs": [],
   "source": [
    "def get_square_df(df):\n",
    "    new_df = df.pow(2)\n",
    "    # the time column\n",
    "    tim = pd.DataFrame(df['time'])\n",
    "\n",
    "    # the class column\n",
    "    clas = pd.DataFrame(df['class'])\n",
    "\n",
    "    # drop time from the dataset so that we don't scale the timestamps\n",
    "    new_df.drop(['time', 'class'], axis=1, inplace=True)\n",
    "\n",
    "    # concatenate the data after scaling it\n",
    "    new_df = pd.concat([tim, clas, new_df], axis=1)\n",
    "    new_df = new_df.astype({'class': 'int32'})\n",
    "    return new_df\n",
    "\n",
    "def RMS(df, start, end):\n",
    "    return df.iloc[start:end + 1, :].mean()\n",
    "\n",
    "def partition_window(df, window_size=200, step_size=100):\n",
    "    count = 0\n",
    "    rows, columns = df.shape\n",
    "    last_data = []\n",
    "    start = 0\n",
    "    end = 0\n",
    "    square_df = get_square_df(df)\n",
    "    RMS_list = []\n",
    "    window_list = []\n",
    "    \n",
    "    for i in range(0, rows, step_size):\n",
    "        if end > 0:\n",
    "            start = end - step_size + 1\n",
    "        else:\n",
    "            start = i\n",
    "        end = min(i + window_size - 1, rows - 1)\n",
    "        #count += 1 # count of total possible windows we can have\n",
    "        #print(\"{} to {}\".format(start, end))\n",
    "        res = RMS(square_df, start, end)\n",
    "        if res[1] == int(res[1]) and int(res[1]) > 0 and int(res[1]) < 7 and end - start + 1 == window_size:\n",
    "            RMS_list.append(res)\n",
    "            window_list.append([start, end])\n",
    "        if end - start + 1 < window_size:\n",
    "            count += 1\n",
    "        if end == rows - 1:\n",
    "            break\n",
    "    return window_list, RMS_list, count"
   ]
  },
  {
   "cell_type": "code",
   "execution_count": 33,
   "metadata": {
    "colab": {
     "base_uri": "https://localhost:8080/",
     "height": 167
    },
    "colab_type": "code",
    "id": "4f78bAXH0TV8",
    "outputId": "71877288-8b10-4b43-92f7-ed4971f64431"
   },
   "outputs": [],
   "source": [
    "# print(\"Total: {}, left: {}, lost percentage: {}\".format(total_window, count, (1 - count/total_window) * 100 ))"
   ]
  },
  {
   "cell_type": "code",
   "execution_count": 34,
   "metadata": {
    "colab": {},
    "colab_type": "code",
    "id": "1qkSUC2O08NJ"
   },
   "outputs": [],
   "source": [
    "# print(\"Total: {}, left: {}, lost percentage: {}\".format(total_window, count, (1 - count/total_window) * 100 ))"
   ]
  },
  {
   "cell_type": "code",
   "execution_count": 35,
   "metadata": {
    "colab": {},
    "colab_type": "code",
    "id": "qvSGffLssFsX"
   },
   "outputs": [],
   "source": [
    "# new_df = df.pow(2)\n",
    "# # the time column\n",
    "# tim = pd.DataFrame(df['time'])\n",
    "\n",
    "# # the class column\n",
    "# clas = pd.DataFrame(df['class'])\n",
    "\n",
    "# # drop time from the dataset so that we don't scale the timestamps\n",
    "# new_df.drop(['time', 'class'], axis=1, inplace=True)\n",
    "\n",
    "# # concatenate the data after scaling it\n",
    "# new_df = pd.concat([tim, clas, new_df], axis=1)\n",
    "# new_df = new_df.astype({'class': 'int32'})\n",
    "# res = new_df.iloc[start:end + 1, :].mean()"
   ]
  },
  {
   "cell_type": "code",
   "execution_count": 36,
   "metadata": {
    "colab": {},
    "colab_type": "code",
    "id": "fd87v_8P6iaX"
   },
   "outputs": [],
   "source": [
    "def exportCSV(data, fileName='output.csv'):\n",
    "    \"\"\"\n",
    "    data is a list storing the data to be appended to the csv fileName\n",
    "    \"\"\"\n",
    "    with open(fileName, 'a+', newline='') as csvfile:\n",
    "        spamwriter = csv.writer(csvfile, delimiter=',',\n",
    "                                quotechar='|', quoting=csv.QUOTE_MINIMAL)\n",
    "        spamwriter.writerow(data)\n",
    "\n",
    "# train, test split\n",
    "def train_valid_test_split(path = './EMG_data_for_gestures-master/'):\n",
    "    test_file = 1 # 1 for using the first half of the second text file\n",
    "    num_subject = 36 # number of subjects we have \n",
    "    # find all the changing points first, \n",
    "    # then use the first changing point from 6 to 0 minus 1 to be the row to split.\n",
    "    # split the data into train and test, then return list of dataframes\n",
    "    # a list holding the data for all 36 users\n",
    "    log_file = path + '{}.csv'.format(\"change_points\")\n",
    "    change_points = [[] for i in range(num_subject)]\n",
    "    is_loaded = False\n",
    "    if os.path.isfile(log_file):\n",
    "        # load the data\n",
    "        count = 0\n",
    "        with open(log_file, 'r') as fin:\n",
    "            for line in fin:\n",
    "                count += 1\n",
    "                if count % 2 == 1:\n",
    "                    continue\n",
    "                data = list(map(int, line.strip().split(\",\")))\n",
    "                change_points[(count - 1) // 4].append(data)\n",
    "        is_loaded = True\n",
    "        # for i in range(num_subject):\n",
    "        #     print(change_points[i])\n",
    "\n",
    "    training = []\n",
    "    validation = []\n",
    "    testing = []\n",
    "    for i in range(num_subject):  # since there are 36 users\n",
    "        all_files = glob.glob(path + \"{}/*.txt\".format(i+1))\n",
    "        # read both files for each user\n",
    "        for j, filename in enumerate(all_files):\n",
    "            df = pd.read_csv(filename, sep = \"\\t\")\n",
    "            if not is_loaded:\n",
    "                change_points[i].append([])\n",
    "                last_class = 0\n",
    "                classes = []\n",
    "                for index, row in enumerate(df.itertuples(index=False)):\n",
    "                    if row[-1] != last_class:\n",
    "                        last_class = row[-1]\n",
    "                        classes.append(last_class)\n",
    "                        change_points[i][j].append(index)\n",
    "                #print(classes)\n",
    "                exportCSV(classes, log_file)\n",
    "                #print(change_points[i][j])\n",
    "                exportCSV(change_points[i][j], log_file)\n",
    "            if j == test_file:\n",
    "                #print(\"{}, {}\".format(i, j))\n",
    "                #print(change_points[i][j])\n",
    "                split_point = change_points[i][j][11]\n",
    "                # append first half to validation,\n",
    "                # second half to testing\n",
    "                validation.append(df.iloc[:split_point,:])\n",
    "                testing.append(df.iloc[split_point:,:])\n",
    "            else:\n",
    "                # append this whole df to training\n",
    "                training.append(df)\n",
    "    return training, validation, testing"
   ]
  },
  {
   "cell_type": "code",
   "execution_count": 37,
   "metadata": {
    "colab": {},
    "colab_type": "code",
    "id": "uJOQYBKjmSaa"
   },
   "outputs": [],
   "source": [
    "training, validation, testing = train_valid_test_split()"
   ]
  },
  {
   "cell_type": "code",
   "execution_count": 38,
   "metadata": {
    "colab": {
     "base_uri": "https://localhost:8080/",
     "height": 70
    },
    "colab_type": "code",
    "id": "8bHcw7TImT9D",
    "outputId": "50028d09-61bd-40db-ae08-9f58ae2e47a9"
   },
   "outputs": [
    {
     "name": "stdout",
     "output_type": "stream",
     "text": [
      "36\n",
      "36\n",
      "36\n"
     ]
    }
   ],
   "source": [
    "print(len(training))\n",
    "print(len(validation))\n",
    "print(len(testing))"
   ]
  },
  {
   "cell_type": "code",
   "execution_count": 64,
   "metadata": {
    "colab": {},
    "colab_type": "code",
    "id": "_PuPfG0u66MA"
   },
   "outputs": [],
   "source": [
    "# fit and evaluate a model\n",
    "def evaluate_model(X_train, y_train, X_test, y_test):\n",
    "    \"\"\"A function that trains an LSTM model and returns the accuracy on the test dataset.\n",
    "\n",
    "    Parameters\n",
    "    ----------\n",
    "    X_train : numpy array\n",
    "        Training data\n",
    "    y_train : numpy array\n",
    "        Training labels\n",
    "    X_test : numpy array\n",
    "        Testing data\n",
    "    y_test : numpy array\n",
    "        Testing labels\n",
    "\n",
    "    Returns\n",
    "    -------\n",
    "        The accuracy of the trained and evaluated LSTM model.\n",
    "\n",
    "    \"\"\"\n",
    "    verbose, epochs, batch_size = 0, 100, 32\n",
    "    n_timesteps, n_features, n_outputs = 200, 8, y_train.shape[0]\n",
    "    model = tf.keras.Sequential()\n",
    "    model.add(tf.keras.layers.LSTM(100, input_shape=(n_timesteps,n_features)))     #(289,200)\n",
    "    model.add(tf.keras.layers.Dropout(0.5))\n",
    "    model.add(tf.keras.layers.Dense(100, activation='relu'))\n",
    "    model.add(tf.keras.layers.Dense(n_outputs, activation='softmax'))\n",
    "    model.compile(loss=tf.keras.losses.sparse_categorical_crossentropy, optimizer=tf.keras.optimizers.Adam(), metrics=['accuracy'])\n",
    "    # fit network\n",
    "    model.fit(X_train, y_train, epochs=epochs, batch_size=batch_size)\n",
    "    # evaluate model\n",
    "    _, accuracy = model.evaluate(X_test, y_test, batch_size=batch_size)\n",
    "    return accuracy"
   ]
  },
  {
   "cell_type": "code",
   "execution_count": 65,
   "metadata": {
    "colab": {},
    "colab_type": "code",
    "id": "7VyN2Zbcwb8A"
   },
   "outputs": [],
   "source": [
    "def getXY(df):\n",
    "    # normalize this df\n",
    "    df = normalize_df(df)\n",
    "    # partition this df into windows\n",
    "    window_list, RMS_list, count = partition_window(df)\n",
    "    # get the X and y from RMS list\n",
    "    rmsX = [list(i[2:]) for i in RMS_list]\n",
    "    dataX = [df.iloc[window[0]:window[1] + 1,2:] for window in window_list]\n",
    "    y = [i[1] for i in RMS_list]\n",
    "    return rmsX, dataX, y"
   ]
  },
  {
   "cell_type": "code",
   "execution_count": 66,
   "metadata": {
    "colab": {
     "base_uri": "https://localhost:8080/",
     "height": 719
    },
    "colab_type": "code",
    "id": "_i-QtCVIG8_I",
    "outputId": "0e6ab003-1b58-4c1a-c256-24d76c34b89a"
   },
   "outputs": [
    {
     "name": "stdout",
     "output_type": "stream",
     "text": [
      "Train on 289 samples\n",
      "Epoch 1/100\n",
      "289/289 [==============================] - 3s 10ms/sample - loss: 5.5718 - accuracy: 0.0450\n",
      "Epoch 2/100\n",
      "289/289 [==============================] - 1s 4ms/sample - loss: 5.2958 - accuracy: 0.2249\n",
      "Epoch 3/100\n",
      "289/289 [==============================] - 1s 4ms/sample - loss: 4.3936 - accuracy: 0.2422\n",
      "Epoch 4/100\n",
      "289/289 [==============================] - 1s 5ms/sample - loss: 2.4821 - accuracy: 0.1315\n",
      "Epoch 5/100\n",
      "289/289 [==============================] - 1s 4ms/sample - loss: 1.8758 - accuracy: 0.1938\n",
      "Epoch 6/100\n",
      "289/289 [==============================] - 1s 4ms/sample - loss: 1.8840 - accuracy: 0.1765\n",
      "Epoch 7/100\n",
      "289/289 [==============================] - 1s 4ms/sample - loss: 1.8517 - accuracy: 0.1799\n",
      "Epoch 8/100\n",
      "289/289 [==============================] - 1s 4ms/sample - loss: 1.8726 - accuracy: 0.1696\n",
      "Epoch 9/100\n",
      "289/289 [==============================] - 1s 4ms/sample - loss: 1.8723 - accuracy: 0.1903\n",
      "Epoch 10/100\n",
      "289/289 [==============================] - 1s 4ms/sample - loss: 1.8387 - accuracy: 0.1765\n",
      "Epoch 11/100\n",
      "289/289 [==============================] - 1s 4ms/sample - loss: 1.8481 - accuracy: 0.1903\n",
      "Epoch 12/100\n",
      "289/289 [==============================] - 1s 4ms/sample - loss: 1.8321 - accuracy: 0.2318\n",
      "Epoch 13/100\n",
      "289/289 [==============================] - 1s 4ms/sample - loss: 1.8458 - accuracy: 0.1834\n",
      "Epoch 14/100\n",
      "289/289 [==============================] - 1s 4ms/sample - loss: 1.7513 - accuracy: 0.2457\n",
      "Epoch 15/100\n",
      "289/289 [==============================] - 1s 4ms/sample - loss: 1.7755 - accuracy: 0.2526\n",
      "Epoch 16/100\n",
      "289/289 [==============================] - 1s 4ms/sample - loss: 1.7462 - accuracy: 0.2803\n",
      "Epoch 17/100\n",
      "289/289 [==============================] - 1s 4ms/sample - loss: 1.7619 - accuracy: 0.2388\n",
      "Epoch 18/100\n",
      "289/289 [==============================] - 1s 4ms/sample - loss: 1.8164 - accuracy: 0.2803\n",
      "Epoch 19/100\n",
      "289/289 [==============================] - 2s 6ms/sample - loss: 1.8448 - accuracy: 0.1972\n",
      "Epoch 20/100\n",
      "289/289 [==============================] - 1s 5ms/sample - loss: 1.8158 - accuracy: 0.1903\n",
      "Epoch 21/100\n",
      "289/289 [==============================] - 1s 4ms/sample - loss: 1.7792 - accuracy: 0.2422\n",
      "Epoch 22/100\n",
      "289/289 [==============================] - 1s 4ms/sample - loss: 1.7352 - accuracy: 0.2526\n",
      "Epoch 23/100\n",
      "289/289 [==============================] - 1s 4ms/sample - loss: 1.6498 - accuracy: 0.3080\n",
      "Epoch 24/100\n",
      "289/289 [==============================] - 1s 4ms/sample - loss: 1.7081 - accuracy: 0.2907\n",
      "Epoch 25/100\n",
      "289/289 [==============================] - 1s 4ms/sample - loss: 1.7660 - accuracy: 0.2388\n",
      "Epoch 26/100\n",
      "289/289 [==============================] - 1s 4ms/sample - loss: 1.6728 - accuracy: 0.3080\n",
      "Epoch 27/100\n",
      "289/289 [==============================] - 1s 4ms/sample - loss: 1.6298 - accuracy: 0.3633\n",
      "Epoch 28/100\n",
      "289/289 [==============================] - 1s 5ms/sample - loss: 1.5409 - accuracy: 0.3945\n",
      "Epoch 29/100\n",
      "289/289 [==============================] - 1s 5ms/sample - loss: 1.5180 - accuracy: 0.3426\n",
      "Epoch 30/100\n",
      "289/289 [==============================] - 1s 4ms/sample - loss: 1.5076 - accuracy: 0.3356\n",
      "Epoch 31/100\n",
      "289/289 [==============================] - 2s 6ms/sample - loss: 1.4547 - accuracy: 0.3979\n",
      "Epoch 32/100\n",
      "289/289 [==============================] - 1s 4ms/sample - loss: 1.4334 - accuracy: 0.4187\n",
      "Epoch 33/100\n",
      "289/289 [==============================] - 1s 4ms/sample - loss: 1.4530 - accuracy: 0.3875\n",
      "Epoch 34/100\n",
      "289/289 [==============================] - 1s 4ms/sample - loss: 1.3269 - accuracy: 0.3875\n",
      "Epoch 35/100\n",
      "289/289 [==============================] - 1s 4ms/sample - loss: 1.2503 - accuracy: 0.4567\n",
      "Epoch 36/100\n",
      "289/289 [==============================] - 1s 4ms/sample - loss: 1.2038 - accuracy: 0.5017\n",
      "Epoch 37/100\n",
      "289/289 [==============================] - 1s 4ms/sample - loss: 1.5984 - accuracy: 0.3875\n",
      "Epoch 38/100\n",
      "289/289 [==============================] - 1s 5ms/sample - loss: 1.3634 - accuracy: 0.4118\n",
      "Epoch 39/100\n",
      "289/289 [==============================] - 1s 4ms/sample - loss: 1.3406 - accuracy: 0.4014\n",
      "Epoch 40/100\n",
      "289/289 [==============================] - 1s 4ms/sample - loss: 1.3953 - accuracy: 0.4256\n",
      "Epoch 41/100\n",
      "289/289 [==============================] - 1s 4ms/sample - loss: 1.4235 - accuracy: 0.3668\n",
      "Epoch 42/100\n",
      "289/289 [==============================] - 1s 4ms/sample - loss: 1.2552 - accuracy: 0.4464\n",
      "Epoch 43/100\n",
      "289/289 [==============================] - 1s 4ms/sample - loss: 1.2483 - accuracy: 0.4325\n",
      "Epoch 44/100\n",
      "289/289 [==============================] - 1s 4ms/sample - loss: 1.2182 - accuracy: 0.4394\n",
      "Epoch 45/100\n",
      "289/289 [==============================] - 1s 4ms/sample - loss: 1.2181 - accuracy: 0.4671\n",
      "Epoch 46/100\n",
      "289/289 [==============================] - 1s 4ms/sample - loss: 1.1389 - accuracy: 0.4740\n",
      "Epoch 47/100\n",
      "289/289 [==============================] - 1s 4ms/sample - loss: 1.1637 - accuracy: 0.4602\n",
      "Epoch 48/100\n",
      "289/289 [==============================] - 1s 5ms/sample - loss: 1.0555 - accuracy: 0.5294\n",
      "Epoch 49/100\n",
      "289/289 [==============================] - 1s 5ms/sample - loss: 1.0665 - accuracy: 0.5502\n",
      "Epoch 50/100\n",
      "289/289 [==============================] - 1s 5ms/sample - loss: 1.0455 - accuracy: 0.5640\n",
      "Epoch 51/100\n",
      "289/289 [==============================] - 1s 4ms/sample - loss: 1.0504 - accuracy: 0.5848\n",
      "Epoch 52/100\n",
      "289/289 [==============================] - 1s 4ms/sample - loss: 1.0114 - accuracy: 0.5606\n",
      "Epoch 53/100\n",
      "289/289 [==============================] - 1s 4ms/sample - loss: 0.9969 - accuracy: 0.5433\n",
      "Epoch 54/100\n",
      "289/289 [==============================] - 1s 5ms/sample - loss: 0.9124 - accuracy: 0.6125\n",
      "Epoch 55/100\n",
      "289/289 [==============================] - 2s 6ms/sample - loss: 0.9538 - accuracy: 0.5779\n",
      "Epoch 56/100\n",
      "289/289 [==============================] - 1s 5ms/sample - loss: 0.9034 - accuracy: 0.6055\n",
      "Epoch 57/100\n",
      "289/289 [==============================] - 1s 5ms/sample - loss: 0.8317 - accuracy: 0.6125\n",
      "Epoch 58/100\n",
      "289/289 [==============================] - 1s 5ms/sample - loss: 0.9030 - accuracy: 0.6263\n",
      "Epoch 59/100\n",
      "289/289 [==============================] - 1s 5ms/sample - loss: 0.8808 - accuracy: 0.6367\n",
      "Epoch 60/100\n",
      "289/289 [==============================] - 1s 5ms/sample - loss: 0.8400 - accuracy: 0.6505\n",
      "Epoch 61/100\n",
      "289/289 [==============================] - 1s 4ms/sample - loss: 0.9032 - accuracy: 0.6298\n",
      "Epoch 62/100\n",
      "289/289 [==============================] - 1s 5ms/sample - loss: 0.8411 - accuracy: 0.6471\n",
      "Epoch 63/100\n",
      "289/289 [==============================] - 1s 5ms/sample - loss: 0.7647 - accuracy: 0.6817\n",
      "Epoch 64/100\n",
      "289/289 [==============================] - 1s 5ms/sample - loss: 1.0658 - accuracy: 0.5882\n",
      "Epoch 65/100\n",
      "289/289 [==============================] - 1s 4ms/sample - loss: 1.2223 - accuracy: 0.5536\n",
      "Epoch 66/100\n",
      "289/289 [==============================] - 1s 5ms/sample - loss: 1.6111 - accuracy: 0.5017\n",
      "Epoch 67/100\n",
      "289/289 [==============================] - 1s 5ms/sample - loss: 1.6389 - accuracy: 0.4567\n",
      "Epoch 68/100\n",
      "289/289 [==============================] - 1s 5ms/sample - loss: 1.0913 - accuracy: 0.5744\n",
      "Epoch 69/100\n",
      "289/289 [==============================] - 1s 4ms/sample - loss: 1.0459 - accuracy: 0.5813\n",
      "Epoch 70/100\n",
      "289/289 [==============================] - 1s 5ms/sample - loss: 1.0142 - accuracy: 0.5882\n",
      "Epoch 71/100\n",
      "289/289 [==============================] - 1s 5ms/sample - loss: 0.9229 - accuracy: 0.5882\n",
      "Epoch 72/100\n",
      "289/289 [==============================] - 1s 5ms/sample - loss: 0.8762 - accuracy: 0.6159\n",
      "Epoch 73/100\n",
      "289/289 [==============================] - 1s 5ms/sample - loss: 0.8722 - accuracy: 0.6021\n",
      "Epoch 74/100\n",
      "289/289 [==============================] - 1s 5ms/sample - loss: 0.8316 - accuracy: 0.6332\n",
      "Epoch 75/100\n",
      "289/289 [==============================] - 1s 5ms/sample - loss: 0.8225 - accuracy: 0.6644\n",
      "Epoch 76/100\n",
      "289/289 [==============================] - 1s 5ms/sample - loss: 0.7580 - accuracy: 0.6471\n",
      "Epoch 77/100\n",
      "289/289 [==============================] - 1s 5ms/sample - loss: 0.7553 - accuracy: 0.6574\n",
      "Epoch 78/100\n",
      "289/289 [==============================] - 1s 5ms/sample - loss: 0.7113 - accuracy: 0.6747\n",
      "Epoch 79/100\n"
     ]
    },
    {
     "name": "stdout",
     "output_type": "stream",
     "text": [
      "289/289 [==============================] - 1s 5ms/sample - loss: 0.7108 - accuracy: 0.6990\n",
      "Epoch 80/100\n",
      "289/289 [==============================] - 1s 5ms/sample - loss: 0.7013 - accuracy: 0.6920\n",
      "Epoch 81/100\n",
      "289/289 [==============================] - 1s 5ms/sample - loss: 0.6773 - accuracy: 0.7370\n",
      "Epoch 82/100\n",
      "289/289 [==============================] - 1s 5ms/sample - loss: 0.6483 - accuracy: 0.7128\n",
      "Epoch 83/100\n",
      "289/289 [==============================] - 1s 4ms/sample - loss: 0.6343 - accuracy: 0.7232\n",
      "Epoch 84/100\n",
      "289/289 [==============================] - 1s 5ms/sample - loss: 0.8905 - accuracy: 0.6851\n",
      "Epoch 85/100\n",
      "289/289 [==============================] - 1s 5ms/sample - loss: 0.9405 - accuracy: 0.6332\n",
      "Epoch 86/100\n",
      "289/289 [==============================] - 1s 5ms/sample - loss: 0.9219 - accuracy: 0.6332\n",
      "Epoch 87/100\n",
      "289/289 [==============================] - 1s 5ms/sample - loss: 0.9052 - accuracy: 0.6644\n",
      "Epoch 88/100\n",
      "289/289 [==============================] - 1s 5ms/sample - loss: 0.8450 - accuracy: 0.6090\n",
      "Epoch 89/100\n",
      "289/289 [==============================] - 1s 5ms/sample - loss: 0.7632 - accuracy: 0.7093\n",
      "Epoch 90/100\n",
      "289/289 [==============================] - 1s 5ms/sample - loss: 0.7738 - accuracy: 0.7093\n",
      "Epoch 91/100\n",
      "289/289 [==============================] - 1s 5ms/sample - loss: 0.7456 - accuracy: 0.6817\n",
      "Epoch 92/100\n",
      "289/289 [==============================] - 1s 5ms/sample - loss: 0.6596 - accuracy: 0.7370\n",
      "Epoch 93/100\n",
      "289/289 [==============================] - 1s 5ms/sample - loss: 0.6094 - accuracy: 0.7163\n",
      "Epoch 94/100\n",
      "289/289 [==============================] - 1s 5ms/sample - loss: 0.5899 - accuracy: 0.7301\n",
      "Epoch 95/100\n",
      "289/289 [==============================] - 2s 5ms/sample - loss: 0.5747 - accuracy: 0.7439\n",
      "Epoch 96/100\n",
      "289/289 [==============================] - 1s 5ms/sample - loss: 0.5517 - accuracy: 0.7682\n",
      "Epoch 97/100\n",
      "289/289 [==============================] - 1s 5ms/sample - loss: 0.5431 - accuracy: 0.7612\n",
      "Epoch 98/100\n",
      "289/289 [==============================] - 1s 5ms/sample - loss: 0.5208 - accuracy: 0.7543\n",
      "Epoch 99/100\n",
      "289/289 [==============================] - 2s 5ms/sample - loss: 0.5425 - accuracy: 0.7405\n",
      "Epoch 100/100\n",
      "289/289 [==============================] - 1s 5ms/sample - loss: 0.5069 - accuracy: 0.7682\n",
      "89/1 [==============================================================================================================================================================================================================================================================================================================================================================================================================================================================================================================================================================================================================================================================================================================================================================================================================================================================================================================================================================================================================================================================================================================================================================================================================================================================================================================================================================================================================================================================================================================================================================================================================================================================================================================================================================================================================================================================================================================================================================================================================================================================================================================================================================================================================================================================================================================================================================================================================================================================================================================================================================================================================================================================================================================================================================================] - 1s 9ms/sample - loss: 0.8475 - accuracy: 0.6629\n"
     ]
    }
   ],
   "source": [
    "acc = []\n",
    "for i in range(1):\n",
    "    trainRMSX, trainX, trainY = getXY(training[i])\n",
    "    validRMSX, validX, validY = getXY(validation[i])\n",
    "    # combine validatation and training together\n",
    "    trainX.extend(validX)\n",
    "    trainY.extend(validY)\n",
    "\n",
    "    # get the testing data\n",
    "    testRMSX, testX, testY = getXY(testing[i])\n",
    "    \n",
    "    trainX = np.asarray([X.values for X in trainX])\n",
    "    trainY = np.asarray(trainY)\n",
    "    testX = np.asarray([X.values for X in testX])\n",
    "    testY = np.asarray(testY)\n",
    "\n",
    "    # train and test the model\n",
    "    acc.append(evaluate_model(trainX, trainY, testX, testY))\n"
   ]
  },
  {
   "cell_type": "code",
   "execution_count": 67,
   "metadata": {
    "colab": {},
    "colab_type": "code",
    "id": "chFbIAvt8oJP"
   },
   "outputs": [
    {
     "data": {
      "text/plain": [
       "[0.66292137]"
      ]
     },
     "execution_count": 67,
     "metadata": {},
     "output_type": "execute_result"
    }
   ],
   "source": [
    "acc"
   ]
  },
  {
   "cell_type": "code",
   "execution_count": null,
   "metadata": {
    "colab": {
     "base_uri": "https://localhost:8080/",
     "height": 87
    },
    "colab_type": "code",
    "id": "p8Me6EVnu3bV",
    "outputId": "8f0380d2-4a37-45cc-ddf1-0a85640a6c1b"
   },
   "outputs": [],
   "source": [
    "#print(RMS_list[0])\n",
    "#print(list(RMS_list[0][2:]))\n",
    "print(len(trainX))\n",
    "print(len(trainY))\n",
    "print(len(testX))\n",
    "print(len(testY))"
   ]
  },
  {
   "cell_type": "code",
   "execution_count": null,
   "metadata": {
    "colab": {},
    "colab_type": "code",
    "id": "bS4caj6pwlBF"
   },
   "outputs": [],
   "source": [
    "# window_list\n",
    "# for window in window_list:\n",
    "#     data = df.iloc[window[0]:window[1] + 1,2:]\n",
    "#     break"
   ]
  },
  {
   "cell_type": "code",
   "execution_count": null,
   "metadata": {
    "colab": {
     "base_uri": "https://localhost:8080/",
     "height": 167
    },
    "colab_type": "code",
    "id": "_slTgANg3b6N",
    "outputId": "d1721326-d6a0-4937-e108-c3bea27d5e0d"
   },
   "outputs": [],
   "source": [
    "data"
   ]
  },
  {
   "cell_type": "code",
   "execution_count": null,
   "metadata": {
    "colab": {},
    "colab_type": "code",
    "id": "-o1zAlcz47n4"
   },
   "outputs": [],
   "source": []
  },
  {
   "cell_type": "code",
   "execution_count": null,
   "metadata": {
    "colab": {},
    "colab_type": "code",
    "id": "Mn0GTkvR47lC"
   },
   "outputs": [],
   "source": []
  },
  {
   "cell_type": "code",
   "execution_count": null,
   "metadata": {
    "colab": {},
    "colab_type": "code",
    "id": "5OQJiPEx47is"
   },
   "outputs": [],
   "source": []
  },
  {
   "cell_type": "code",
   "execution_count": null,
   "metadata": {
    "colab": {},
    "colab_type": "code",
    "id": "LbGY02gG47gJ"
   },
   "outputs": [],
   "source": []
  },
  {
   "cell_type": "code",
   "execution_count": null,
   "metadata": {
    "colab": {},
    "colab_type": "code",
    "id": "6XhYCtUHU7yO"
   },
   "outputs": [],
   "source": [
    "# RMS_list[]"
   ]
  },
  {
   "cell_type": "code",
   "execution_count": null,
   "metadata": {
    "colab": {
     "base_uri": "https://localhost:8080/",
     "height": 167
    },
    "colab_type": "code",
    "id": "F9AiSfe-VBVV",
    "outputId": "4b0d55f5-6fb0-4ef4-fba9-af37f36be787"
   },
   "outputs": [],
   "source": [
    "window_list"
   ]
  },
  {
   "cell_type": "code",
   "execution_count": null,
   "metadata": {
    "colab": {},
    "colab_type": "code",
    "id": "oaF0NFKKVELU"
   },
   "outputs": [],
   "source": [
    "print(count)"
   ]
  },
  {
   "cell_type": "code",
   "execution_count": null,
   "metadata": {
    "colab": {},
    "colab_type": "code",
    "id": "aHiQh1DOVNhB"
   },
   "outputs": [],
   "source": [
    "print(len(window_list))"
   ]
  },
  {
   "cell_type": "code",
   "execution_count": null,
   "metadata": {
    "colab": {},
    "colab_type": "code",
    "id": "3u9jazXPVPq3"
   },
   "outputs": [],
   "source": [
    "0.09/3"
   ]
  },
  {
   "cell_type": "code",
   "execution_count": null,
   "metadata": {
    "colab": {},
    "colab_type": "code",
    "id": "f4I4PioIYBVl"
   },
   "outputs": [],
   "source": []
  },
  {
   "cell_type": "code",
   "execution_count": null,
   "metadata": {
    "colab": {},
    "colab_type": "code",
    "id": "Ig2Dpdmc6coE"
   },
   "outputs": [],
   "source": [
    "for i in range(36):\n",
    "    "
   ]
  }
 ],
 "metadata": {
  "accelerator": "GPU",
  "colab": {
   "collapsed_sections": [],
   "name": "preprocessing.ipynb",
   "provenance": []
  },
  "jupytext": {
   "cell_metadata_filter": "-all",
   "main_language": "python",
   "notebook_metadata_filter": "-all"
  },
  "kernelspec": {
   "display_name": "Python 3",
   "language": "python",
   "name": "python3"
  },
  "language_info": {
   "codemirror_mode": {
    "name": "ipython",
    "version": 3
   },
   "file_extension": ".py",
   "mimetype": "text/x-python",
   "name": "python",
   "nbconvert_exporter": "python",
   "pygments_lexer": "ipython3",
   "version": "3.7.4"
  }
 },
 "nbformat": 4,
 "nbformat_minor": 1
}
