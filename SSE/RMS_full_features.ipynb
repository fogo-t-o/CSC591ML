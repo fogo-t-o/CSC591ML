{
 "cells": [
  {
   "cell_type": "code",
   "execution_count": 1,
   "metadata": {},
   "outputs": [],
   "source": [
    "from preprocessEMG import train_valid_test_split, getXY\n",
    "from sklearn.metrics import f1_score\n",
    "from sklearn.metrics import accuracy_score\n",
    "from statistics import mean, stdev\n",
    "import numpy as np\n",
    "\n",
    "from sklearn.ensemble import RandomForestClassifier, ExtraTreesClassifier\n",
    "from sklearn.neural_network import MLPClassifier\n",
    "from sklearn.neighbors import KNeighborsClassifier\n",
    "\n",
    "\n",
    "from exportCSV import exportCSV"
   ]
  },
  {
   "cell_type": "code",
   "execution_count": 2,
   "metadata": {},
   "outputs": [],
   "source": [
    "training, validation, testing = train_valid_test_split()"
   ]
  },
  {
   "cell_type": "code",
   "execution_count": 3,
   "metadata": {},
   "outputs": [],
   "source": [
    "def evaluate(clf, clf_name):\n",
    "    f1_macro = []\n",
    "    f1_micro = []\n",
    "    accuracy = []\n",
    "    for i in range(36):\n",
    "        trainRMSX, trainX, trainY = getXY(training[i])\n",
    "        validRMSX, validX, validY = getXY(validation[i])\n",
    "        # combine validatation and training together\n",
    "        trainRMSX.extend(validRMSX)\n",
    "        trainX.extend(validX)\n",
    "        trainY.extend(validY)\n",
    "        # train the model\n",
    "        clf.fit(trainRMSX, trainY)\n",
    "        # test the model\n",
    "        testRMSX, testX, testY = getXY(testing[i])\n",
    "        predictY = clf.predict(testRMSX)\n",
    "        f1_macro.append(f1_score(testY, predictY, average='macro'))\n",
    "        f1_micro.append(f1_score(testY, predictY, average='micro'))\n",
    "        accuracy.append(accuracy_score(testY, predictY))\n",
    "\n",
    "    print(\"Macro-F1: {}, Accuracy: {}\".format(mean(f1_macro), mean(accuracy)))\n",
    "    f1_scores_2 = [clf_name, mean(f1_macro), stdev(f1_macro)]\n",
    "    f1_scores_2.extend(f1_macro)\n",
    "    accuracies_2 = [clf_name, mean(accuracy), stdev(accuracy)]\n",
    "    accuracies_2.extend(accuracy)\n",
    "    exportCSV(f1_scores_2, \"full_f1_macro.csv\")\n",
    "    exportCSV(accuracies_2, \"full_accuracy.csv\")"
   ]
  },
  {
   "cell_type": "code",
   "execution_count": 4,
   "metadata": {},
   "outputs": [
    {
     "name": "stdout",
     "output_type": "stream",
     "text": [
      "Macro-F1: 0.9456941257390152, Accuracy: 0.9477063367926976\n"
     ]
    }
   ],
   "source": [
    "clf = RandomForestClassifier(n_estimators=300, random_state=0, n_jobs=-1) # 1\n",
    "evaluate(clf, \"randomforest\")"
   ]
  },
  {
   "cell_type": "code",
   "execution_count": 5,
   "metadata": {},
   "outputs": [
    {
     "name": "stdout",
     "output_type": "stream",
     "text": [
      "Macro-F1: 0.9539008366935258, Accuracy: 0.9558609757955353\n"
     ]
    }
   ],
   "source": [
    "clf = ExtraTreesClassifier(n_estimators=200, random_state=0, n_jobs=-1) # 2\n",
    "evaluate(clf, \"extratrees\") "
   ]
  },
  {
   "cell_type": "code",
   "execution_count": 6,
   "metadata": {
    "scrolled": true
   },
   "outputs": [
    {
     "name": "stdout",
     "output_type": "stream",
     "text": [
      "Macro-F1: 0.9491509717002823, Accuracy: 0.9517721023224012\n"
     ]
    }
   ],
   "source": [
    "clf = MLPClassifier(hidden_layer_sizes=(150), max_iter=500, random_state=0) # 3\n",
    "evaluate(clf, \"mlp\")"
   ]
  },
  {
   "cell_type": "code",
   "execution_count": 7,
   "metadata": {},
   "outputs": [
    {
     "name": "stdout",
     "output_type": "stream",
     "text": [
      "Macro-F1: 0.9253316141976886, Accuracy: 0.9274021415785263\n"
     ]
    }
   ],
   "source": [
    "clf = KNeighborsClassifier(5) # 4\n",
    "evaluate(clf, \"knn\")"
   ]
  },
  {
   "cell_type": "code",
   "execution_count": null,
   "metadata": {},
   "outputs": [],
   "source": []
  }
 ],
 "metadata": {
  "kernelspec": {
   "display_name": "Python 3",
   "language": "python",
   "name": "python3"
  },
  "language_info": {
   "codemirror_mode": {
    "name": "ipython",
    "version": 3
   },
   "file_extension": ".py",
   "mimetype": "text/x-python",
   "name": "python",
   "nbconvert_exporter": "python",
   "pygments_lexer": "ipython3",
   "version": "3.6.5"
  }
 },
 "nbformat": 4,
 "nbformat_minor": 2
}
