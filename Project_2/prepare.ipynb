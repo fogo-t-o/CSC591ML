{
 "cells": [
  {
   "cell_type": "code",
   "execution_count": 2,
   "metadata": {},
   "outputs": [],
   "source": [
    "import os\n",
    "import pandas as pd"
   ]
  },
  {
   "cell_type": "code",
   "execution_count": 31,
   "metadata": {},
   "outputs": [],
   "source": [
    "def prepare(feature_list, output_folder=\".\", data_folder=\".\", file_name=\"Training_data\"):\n",
    "    # save selected features to a csv file\n",
    "    os.makedirs(output_folder, exist_ok=True)\n",
    "    df = pd.read_csv(\"{}/MDP_Original_data.csv\".format(data_folder), dtype='str')\n",
    "    NUM_STATIC = 6\n",
    "    MAX_LENGTH = NUM_STATIC + 8\n",
    "    keep_list = [i for i in range(NUM_STATIC)]\n",
    "    feature_list.sort()\n",
    "    for item in feature_list:\n",
    "        if item in keep_list:\n",
    "            continue\n",
    "        keep_list.append(item)\n",
    "    if len(keep_list) == NUM_STATIC:\n",
    "        return # we have no feature actually\n",
    "    if len(keep_list) > MAX_LENGTH:\n",
    "        print(\"Feature list has size over the maximum limit of {}\".format(MAX_LENGTH - NUM_STATIC))\n",
    "    df[df.columns[keep_list]].to_csv(\"{}/{}.csv\".format(output_folder, file_name), index=False)"
   ]
  },
  {
   "cell_type": "code",
   "execution_count": 33,
   "metadata": {},
   "outputs": [],
   "source": [
    "# every single feature \n",
    "for i in range(6, 130):\n",
    "    prepare([i], output_folder=\"data\", file_name=i)"
   ]
  },
  {
   "cell_type": "code",
   "execution_count": 24,
   "metadata": {},
   "outputs": [],
   "source": [
    "df = pd.read_csv(\"{}/MDP_Original_data.csv\".format(\".\"))"
   ]
  },
  {
   "cell_type": "code",
   "execution_count": 29,
   "metadata": {},
   "outputs": [
    {
     "data": {
      "text/plain": [
       "(7168, 130)"
      ]
     },
     "execution_count": 29,
     "metadata": {},
     "output_type": "execute_result"
    }
   ],
   "source": [
    "df.shape"
   ]
  },
  {
   "cell_type": "code",
   "execution_count": 28,
   "metadata": {
    "scrolled": false
   },
   "outputs": [
    {
     "name": "stdout",
     "output_type": "stream",
     "text": [
      "Interaction:int64:405, min: 2, max: 1945\n",
      "hintCount:int64:45, min: 0, max: 86\n",
      "TotalTime:float64:6319, min: 0.043, max: 10279.619\n",
      "TotalPSTime:float64:4278, min: 0.0, max: 10279.619\n",
      "TotalWETime:float64:2131, min: 0.0, max: 507.912\n",
      "avgstepTime:float64:6294, min: 0.0215, max: 59.7295\n",
      "avgstepTimePS:float64:4223, min: 0.0, max: 60.0\n",
      "stepTimeDeviation:float64:5532, min: 0.05939697, max: 42.42640687\n",
      "symbolicRepresentationCount:int64:3, min: 0, max: 2\n",
      "englishSymbolicSwitchCount:int64:12, min: 0, max: 22\n",
      "Level:int64:6, min: 1, max: 6\n",
      "probDiff:int64:3, min: -1, max: 1\n",
      "difficultProblemCountSolved:int64:2, min: 0, max: 1\n",
      "difficultProblemCountWE:int64:2, min: 0, max: 1\n",
      "easyProblemCountSolved:int64:2, min: 0, max: 1\n",
      "easyProblemCountWE:int64:2, min: 0, max: 1\n",
      "probAlternate:int64:2, min: 0, max: 1\n",
      "easyProbAlternate:int64:2, min: 0, max: 1\n",
      "RuleTypesCount:int64:5, min: 0, max: 4\n",
      "UseCount:int64:67, min: 0, max: 267\n",
      "PrepCount:int64:54, min: 0, max: 140\n",
      "MorphCount:int64:79, min: 0, max: 231\n",
      "OptionalCount:int64:40, min: 0, max: 102\n",
      "NewLevel:int64:2, min: 0, max: 1\n",
      "SolvedPSInLevel:int64:2, min: 0, max: 1\n",
      "SeenWEinLevel:int64:2, min: 0, max: 1\n",
      "probIndexinLevel:int64:5, min: 0, max: 4\n",
      "probIndexPSinLevel:int64:5, min: 0, max: 4\n",
      "InterfaceErrorCount:int64:118, min: 0, max: 318\n",
      "RightApp:int64:76, min: 0, max: 183\n",
      "WrongApp:int64:108, min: 0, max: 504\n",
      "WrongSemanticsApp:int64:70, min: 0, max: 181\n",
      "WrongSyntaxApp:int64:76, min: 0, max: 424\n",
      "PrightAppRatio:float64:1146, min: 0.0, max: 0.573913043\n",
      "RrightAppRatio:float64:181, min: 0.0, max: 45.75\n",
      "F1Score:float64:1124, min: 0.023529412000000003, max: 1.128205128\n",
      "FDActionCount:int64:364, min: 0, max: 1614\n",
      "BDActionCount:int64:24, min: 0, max: 72\n",
      "DirectProofActionCount:int64:341, min: 0, max: 1567\n",
      "InDirectProofActionCount:int64:182, min: 0, max: 883\n",
      "actionCount:int64:367, min: 0, max: 1629\n",
      "UseWindowInfo:int64:14, min: 0, max: 14\n",
      "NonPSelements:int64:61, min: 0, max: 102\n",
      "AppCount:int64:358, min: 0, max: 1564\n",
      "AppRatio:float64:1116, min: 0.0, max: 1.0\n",
      "hintRatio:float64:738, min: 0.0, max: 1.0\n",
      "BlankRatio:float64:1116, min: 0.0, max: 1.0\n",
      "HoverHintCount:int64:138, min: 0, max: 489\n",
      "SystemInfoHintCount:int64:14, min: 0, max: 16\n",
      "NextStepClickCountWE:int64:19, min: 0, max: 28\n",
      "PreviousStepClickCountWE:int64:16, min: 0, max: 18\n",
      "deletedApp:int64:39, min: 0, max: 80\n",
      "ruleScoreMP:float64:2297, min: 0.01, max: 1.0\n",
      "ruleScoreDS:float64:2109, min: 0.01, max: 0.999995836\n",
      "ruleScoreSIMP:float64:2773, min: 0.01, max: 1.0\n",
      "ruleScoreMT:float64:1564, min: 0.01, max: 0.999999675\n",
      "ruleScoreADD:float64:1352, min: 0.01, max: 1.0\n",
      "ruleScoreCONJ:float64:1596, min: 0.01, max: 0.9999998790000001\n",
      "ruleScoreHS:float64:1451, min: 0.01, max: 0.9999946359999999\n",
      "ruleScoreCD:float64:484, min: 0.01, max: 0.999999031\n",
      "ruleScoreDN:float64:1494, min: 0.01, max: 1.0\n",
      "ruleScoreDEM:float64:1586, min: 0.01, max: 0.99999955\n",
      "ruleScoreIMPL:float64:2686, min: 0.01, max: 1.0\n",
      "ruleScoreCONTRA:float64:205, min: 0.01, max: 1.0\n",
      "ruleScoreEQUIV:float64:182, min: 0.01, max: 0.999856773\n",
      "ruleScoreCOM:float64:31, min: 0.01, max: 1.0\n",
      "ruleScoreASSOC:float64:136, min: 0.01, max: 0.447945035\n",
      "ruleScoreDIST:float64:277, min: 0.01, max: 0.785829766\n",
      "ruleScoreABS:float64:41, min: 0.01, max: 0.430750608\n",
      "ruleScoreEXP:float64:49, min: 0.01, max: 0.193316938\n",
      "ruleScoreTAUT:float64:38, min: 0.01, max: 0.917821159\n",
      "cumul_Interaction:int64:827, min: 2, max: 2186\n",
      "cumul_hintCount:int64:74, min: 0, max: 119\n",
      "cumul_TotalTime:float64:6073, min: 1.472, max: 13959.003\n",
      "cumul_TotalPSTime:float64:4154, min: 0.0, max: 13777.43\n",
      "cumul_TotalWETime:float64:2122, min: 0.0, max: 715.566\n",
      "cumul_avgstepTime:float64:6023, min: 0.24100000000000002, max: 38.17877778\n",
      "cumul_avgstepTimeWE:float64:2136, min: 0.054000000000000006, max: 38.17877778\n",
      "cumul_avgstepTimePS:float64:4093, min: 0.009000000000000001, max: 30.1855\n",
      "cumul_symbolicRepresentationCount:int64:61, min: 0, max: 78\n",
      "cumul_englishSymbolicSwitchCount:int64:16, min: 0, max: 26\n",
      "cumul_difficultProblemCountSolved:int64:4, min: 0, max: 3\n",
      "cumul_difficultProblemCountWE:int64:4, min: 0, max: 3\n",
      "cumul_easyProblemCountSolved:int64:4, min: 0, max: 3\n",
      "cumul_easyProblemCountWE:int64:4, min: 0, max: 3\n",
      "cumul_probAlternate:int64:2, min: 0, max: 1\n",
      "cumul_easyProbAlternate:int64:2, min: 0, max: 1\n",
      "cumul_RuleTypesCount:int64:5, min: 0, max: 4\n",
      "cumul_UseCount:int64:144, min: 0, max: 281\n",
      "cumul_PrepCount:int64:114, min: 0, max: 163\n",
      "cumul_MorphCount:int64:156, min: 0, max: 257\n",
      "cumul_OptionalCount:int64:69, min: 0, max: 152\n",
      "cumul_probIndexinLevel:int64:5, min: 0, max: 4\n",
      "cumul_InterfaceErrorCount:int64:227, min: 0, max: 343\n",
      "cumul_RightApp:int64:144, min: 0, max: 240\n",
      "cumul_WrongApp:int64:227, min: 0, max: 588\n",
      "cumul_WrongSemanticsApp:int64:131, min: 0, max: 306\n",
      "cumul_WrongSyntaxApp:int64:161, min: 0, max: 425\n",
      "cumul_PrightAppRatio:float64:2203, min: 0.0, max: 0.573913043\n",
      "cumul_RrightAppRatio:float64:1238, min: 0.0, max: 33.0\n",
      "cumul_F1Score:float64:2371, min: 0.026315789, max: 1.128205128\n",
      "cumul_FDActionCount:int64:743, min: 0, max: 1947\n",
      "cumul_BDActionCount:int64:26, min: 0, max: 72\n",
      "cumul_DirectProofActionCount:int64:680, min: 0, max: 1708\n",
      "cumul_InDirectProofActionCount:int64:255, min: 0, max: 1458\n",
      "cumul_actionCount:int64:749, min: 0, max: 1952\n",
      "cumul_UseWindowInfo:int64:16, min: 0, max: 25\n",
      "cumul_NonPSelements:int64:131, min: 0, max: 185\n",
      "cumul_AppCount:int64:686, min: 0, max: 1895\n",
      "cumul_AppRatio:float64:2885, min: 0.0, max: 1.0\n",
      "cumul_hintRatio:float64:1984, min: 0.0, max: 1.0\n",
      "cumul_BlankRatio:float64:2885, min: 0.0, max: 1.0\n",
      "cumul_HoverHintCount:int64:223, min: 0, max: 489\n",
      "cumul_SystemInfoHintCount:int64:16, min: 0, max: 18\n",
      "cumul_NextStepClickCountWE:int64:25, min: 0, max: 31\n",
      "cumul_PreviousStepClickCountWE:int64:20, min: 0, max: 27\n",
      "cumul_deletedApp:int64:57, min: 0, max: 109\n",
      "CurrPro_NumProbRule:int64:7, min: 2, max: 8\n",
      "CurrPro_avgProbTime:float64:59, min: 28.33736842, max: 705.756679\n",
      "CurrPro_avgProbTimePS:float64:59, min: 28.33736842, max: 705.756679\n",
      "CurrPro_avgProbTimeDeviationPS:float64:59, min: 72.71220904, max: 1017.3603289999999\n",
      "CurrPro_avgProbTimeWE:float64:31, min: 0.0, max: 48.0436209\n",
      "CurrPro_avgProbTimeDeviationWE:float64:31, min: 0.0, max: 85.89333199\n",
      "CurrPro_medianProbTime:float64:59, min: 0.126, max: 506.664\n"
     ]
    }
   ],
   "source": [
    "for i in range(6, columns):\n",
    "    col = df.iloc[:, i]\n",
    "    count = len(col.unique())\n",
    "    print(\"{}:{}:{}, min: {}, max: {}\".format(df.columns[i], col.dtype, count, min(col), max(col)))"
   ]
  },
  {
   "cell_type": "code",
   "execution_count": null,
   "metadata": {},
   "outputs": [],
   "source": []
  }
 ],
 "metadata": {
  "kernelspec": {
   "display_name": "Python 3",
   "language": "python",
   "name": "python3"
  },
  "language_info": {
   "codemirror_mode": {
    "name": "ipython",
    "version": 3
   },
   "file_extension": ".py",
   "mimetype": "text/x-python",
   "name": "python",
   "nbconvert_exporter": "python",
   "pygments_lexer": "ipython3",
   "version": "3.7.4"
  }
 },
 "nbformat": 4,
 "nbformat_minor": 2
}
