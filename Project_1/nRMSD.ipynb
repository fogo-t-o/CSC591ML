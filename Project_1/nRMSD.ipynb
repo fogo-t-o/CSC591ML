{
 "cells": [
  {
   "cell_type": "code",
   "execution_count": 1,
   "metadata": {},
   "outputs": [],
   "source": [
    "from nrmsd import getNRMSD"
   ]
  },
  {
   "cell_type": "code",
   "execution_count": 3,
   "metadata": {},
   "outputs": [
    {
     "name": "stdout",
     "output_type": "stream",
     "text": [
      "0.2024073\n",
      "0.2621022\n",
      "0.2369696\n",
      "0.2177181\n",
      "0.1467821\n",
      "0.1455925\n",
      "0.2713614\n",
      "0.2310303\n",
      "0.2592127\n",
      "0.2482796\n",
      "0.1897457\n",
      "0.2324037\n",
      "0.2770005\n"
     ]
    }
   ],
   "source": [
    "getNRMSD(evaluate_folder='./output/simple_imputer_mean')"
   ]
  },
  {
   "cell_type": "code",
   "execution_count": null,
   "metadata": {},
   "outputs": [],
   "source": [
    "getNRMSD(evaluate_folder='./output/simple_imputer_median')"
   ]
  },
  {
   "cell_type": "code",
   "execution_count": null,
   "metadata": {},
   "outputs": [],
   "source": [
    "getNRMSD(evaluate_folder='./output/simple_imputer_most_frequent')"
   ]
  },
  {
   "cell_type": "code",
   "execution_count": null,
   "metadata": {},
   "outputs": [],
   "source": [
    "getNRMSD(evaluate_folder='./output/iterative_imputer_bayesianridge_iter10')"
   ]
  },
  {
   "cell_type": "code",
   "execution_count": null,
   "metadata": {},
   "outputs": [],
   "source": [
    "getNRMSD(evaluate_folder='./output/iterative_imputer_bayesianridge_iter20')"
   ]
  },
  {
   "cell_type": "code",
   "execution_count": null,
   "metadata": {},
   "outputs": [],
   "source": [
    "getNRMSD(evaluate_folder='./output/iterative_imputer_decisiontree_iter10')"
   ]
  },
  {
   "cell_type": "code",
   "execution_count": null,
   "metadata": {},
   "outputs": [],
   "source": [
    "getNRMSD(evaluate_folder='./output/iterative_imputer_extratrees_iter10') # n_estimator=10"
   ]
  },
  {
   "cell_type": "code",
   "execution_count": null,
   "metadata": {},
   "outputs": [],
   "source": [
    "getNRMSD(evaluate_folder='./output/iterative_imputer_extratrees_iter10') # n_estimator=30"
   ]
  },
  {
   "cell_type": "code",
   "execution_count": null,
   "metadata": {},
   "outputs": [],
   "source": [
    "getNRMSD(evaluate_folder='./output/iterative_imputer_extratrees_iter20') # n_estimator=10"
   ]
  },
  {
   "cell_type": "code",
   "execution_count": null,
   "metadata": {},
   "outputs": [],
   "source": [
    "getNRMSD(evaluate_folder='./output/iterative_imputer_extratrees_iter20') # n_estimator=50"
   ]
  },
  {
   "cell_type": "code",
   "execution_count": null,
   "metadata": {},
   "outputs": [],
   "source": [
    "getNRMSD(evaluate_folder='./output/iterative_imputer_extratrees_iter30') # n_estimator=100"
   ]
  },
  {
   "cell_type": "code",
   "execution_count": null,
   "metadata": {},
   "outputs": [],
   "source": [
    "getNRMSD(evaluate_folder='./output/iterative_imputer_extratrees_iter40') # n_estimator=200"
   ]
  },
  {
   "cell_type": "code",
   "execution_count": null,
   "metadata": {},
   "outputs": [],
   "source": [
    "getNRMSD(evaluate_folder='./output/iterative_imputer_knn_iter10')"
   ]
  },
  {
   "cell_type": "code",
   "execution_count": null,
   "metadata": {},
   "outputs": [],
   "source": [
    "getNRMSD(evaluate_folder='./output/impyute_em') # loops = 50"
   ]
  },
  {
   "cell_type": "code",
   "execution_count": null,
   "metadata": {},
   "outputs": [],
   "source": [
    "getNRMSD(evaluate_folder='./output/impyute_em_loops100')"
   ]
  },
  {
   "cell_type": "code",
   "execution_count": null,
   "metadata": {},
   "outputs": [],
   "source": [
    "getNRMSD(evaluate_folder='./output/impyute_em_loops10')"
   ]
  },
  {
   "cell_type": "code",
   "execution_count": null,
   "metadata": {},
   "outputs": [],
   "source": []
  }
 ],
 "metadata": {
  "kernelspec": {
   "display_name": "Python 3",
   "language": "python",
   "name": "python3"
  },
  "language_info": {
   "codemirror_mode": {
    "name": "ipython",
    "version": 3
   },
   "file_extension": ".py",
   "mimetype": "text/x-python",
   "name": "python",
   "nbconvert_exporter": "python",
   "pygments_lexer": "ipython3",
   "version": "3.6.9"
  }
 },
 "nbformat": 4,
 "nbformat_minor": 2
}
