{
 "cells": [
  {
   "cell_type": "code",
   "execution_count": 2,
   "metadata": {},
   "outputs": [],
   "source": [
    "from nrmsd import getNRMSD"
   ]
  },
  {
   "cell_type": "code",
   "execution_count": 3,
   "metadata": {},
   "outputs": [
    {
     "name": "stdout",
     "output_type": "stream",
     "text": [
      "0.2935767\n",
      "0.2759500\n",
      "0.3014644\n",
      "0.2944679\n",
      "0.2873075\n",
      "0.2906542\n",
      "0.3090086\n",
      "0.3201558\n",
      "0.3008846\n",
      "0.3154781\n",
      "0.3120251\n",
      "0.3065835\n",
      "0.2807239\n"
     ]
    }
   ],
   "source": [
    "getNRMSD(evaluate_folder='./output/simple_imputer_mean')"
   ]
  },
  {
   "cell_type": "code",
   "execution_count": 5,
   "metadata": {},
   "outputs": [
    {
     "name": "stdout",
     "output_type": "stream",
     "text": [
      "0.3028767\n",
      "0.2817362\n",
      "0.3127656\n",
      "0.3039745\n",
      "0.2954242\n",
      "0.2993130\n",
      "0.3251996\n",
      "0.3356349\n",
      "0.3110419\n",
      "0.3315596\n",
      "0.3269149\n",
      "0.3261106\n",
      "0.2877968\n"
     ]
    }
   ],
   "source": [
    "getNRMSD(evaluate_folder='./output/simple_imputer_median')"
   ]
  },
  {
   "cell_type": "code",
   "execution_count": 6,
   "metadata": {},
   "outputs": [
    {
     "name": "stdout",
     "output_type": "stream",
     "text": [
      "0.3595348\n",
      "0.3331576\n",
      "0.3721712\n",
      "0.3541973\n",
      "0.4254017\n",
      "0.3732036\n",
      "0.3750860\n",
      "0.4720648\n",
      "0.4139820\n",
      "0.4066263\n",
      "0.4113098\n",
      "0.3780660\n",
      "0.3801517\n"
     ]
    }
   ],
   "source": [
    "getNRMSD(evaluate_folder='./output/simple_imputer_most_frequent')"
   ]
  },
  {
   "cell_type": "code",
   "execution_count": 7,
   "metadata": {},
   "outputs": [
    {
     "name": "stdout",
     "output_type": "stream",
     "text": [
      "0.2268836\n",
      "0.3502727\n",
      "0.2560449\n",
      "0.2369056\n",
      "0.2434119\n",
      "0.2019983\n",
      "0.2977383\n",
      "0.2479820\n",
      "0.2843056\n",
      "0.3521460\n",
      "0.2720116\n",
      "0.3730921\n",
      "0.2738743\n"
     ]
    }
   ],
   "source": [
    "getNRMSD(evaluate_folder='./output/iterative_imputer') # max_iter=10"
   ]
  },
  {
   "cell_type": "code",
   "execution_count": 8,
   "metadata": {},
   "outputs": [
    {
     "name": "stdout",
     "output_type": "stream",
     "text": [
      "0.2268848\n",
      "0.3502789\n",
      "0.2560473\n",
      "0.2369106\n",
      "0.2434118\n",
      "0.2019986\n",
      "0.2977403\n",
      "0.2480105\n",
      "0.2843037\n",
      "0.3521102\n",
      "0.2720133\n",
      "0.3730905\n",
      "0.2738947\n"
     ]
    }
   ],
   "source": [
    "getNRMSD(evaluate_folder='./output/iterative_imputer') # max_iter=20"
   ]
  },
  {
   "cell_type": "code",
   "execution_count": null,
   "metadata": {},
   "outputs": [],
   "source": []
  }
 ],
 "metadata": {
  "kernelspec": {
   "display_name": "Python 3",
   "language": "python",
   "name": "python3"
  },
  "language_info": {
   "codemirror_mode": {
    "name": "ipython",
    "version": 3
   },
   "file_extension": ".py",
   "mimetype": "text/x-python",
   "name": "python",
   "nbconvert_exporter": "python",
   "pygments_lexer": "ipython3",
   "version": "3.6.8"
  }
 },
 "nbformat": 4,
 "nbformat_minor": 2
}
