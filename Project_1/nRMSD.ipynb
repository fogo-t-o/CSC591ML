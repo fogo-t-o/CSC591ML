{
 "cells": [
  {
   "cell_type": "code",
   "execution_count": 1,
   "metadata": {},
   "outputs": [],
   "source": [
    "from nrmsd import getNRMSD"
   ]
  },
  {
   "cell_type": "code",
   "execution_count": 3,
   "metadata": {},
   "outputs": [
    {
     "name": "stdout",
     "output_type": "stream",
     "text": [
      "0.2935767\n",
      "0.2759500\n",
      "0.3014644\n",
      "0.2944679\n",
      "0.2873075\n",
      "0.2906542\n",
      "0.3090086\n",
      "0.3201558\n",
      "0.3008846\n",
      "0.3154781\n",
      "0.3120251\n",
      "0.3065835\n",
      "0.2807239\n"
     ]
    }
   ],
   "source": [
    "getNRMSD(evaluate_folder='./output/simple_imputer_mean')"
   ]
  },
  {
   "cell_type": "code",
   "execution_count": 5,
   "metadata": {},
   "outputs": [
    {
     "name": "stdout",
     "output_type": "stream",
     "text": [
      "0.3028767\n",
      "0.2817362\n",
      "0.3127656\n",
      "0.3039745\n",
      "0.2954242\n",
      "0.2993130\n",
      "0.3251996\n",
      "0.3356349\n",
      "0.3110419\n",
      "0.3315596\n",
      "0.3269149\n",
      "0.3261106\n",
      "0.2877968\n"
     ]
    }
   ],
   "source": [
    "getNRMSD(evaluate_folder='./output/simple_imputer_median')"
   ]
  },
  {
   "cell_type": "code",
   "execution_count": 6,
   "metadata": {},
   "outputs": [
    {
     "name": "stdout",
     "output_type": "stream",
     "text": [
      "0.3595348\n",
      "0.3331576\n",
      "0.3721712\n",
      "0.3541973\n",
      "0.4254017\n",
      "0.3732036\n",
      "0.3750860\n",
      "0.4720648\n",
      "0.4139820\n",
      "0.4066263\n",
      "0.4113098\n",
      "0.3780660\n",
      "0.3801517\n"
     ]
    }
   ],
   "source": [
    "getNRMSD(evaluate_folder='./output/simple_imputer_most_frequent')"
   ]
  },
  {
   "cell_type": "code",
   "execution_count": 7,
   "metadata": {},
   "outputs": [
    {
     "name": "stdout",
     "output_type": "stream",
     "text": [
      "0.2268836\n",
      "0.3502727\n",
      "0.2560449\n",
      "0.2369056\n",
      "0.2434119\n",
      "0.2019983\n",
      "0.2977383\n",
      "0.2479820\n",
      "0.2843056\n",
      "0.3521460\n",
      "0.2720116\n",
      "0.3730921\n",
      "0.2738743\n"
     ]
    }
   ],
   "source": [
    "getNRMSD(evaluate_folder='./output/iterative_imputer_bayesianridge_iter10')"
   ]
  },
  {
   "cell_type": "code",
   "execution_count": 8,
   "metadata": {},
   "outputs": [
    {
     "name": "stdout",
     "output_type": "stream",
     "text": [
      "0.2268848\n",
      "0.3502789\n",
      "0.2560473\n",
      "0.2369106\n",
      "0.2434118\n",
      "0.2019986\n",
      "0.2977403\n",
      "0.2480105\n",
      "0.2843037\n",
      "0.3521102\n",
      "0.2720133\n",
      "0.3730905\n",
      "0.2738947\n"
     ]
    }
   ],
   "source": [
    "getNRMSD(evaluate_folder='./output/iterative_imputer_bayesianridge_iter20')"
   ]
  },
  {
   "cell_type": "code",
   "execution_count": 15,
   "metadata": {},
   "outputs": [
    {
     "name": "stdout",
     "output_type": "stream",
     "text": [
      "0.2749216\n",
      "0.3191286\n",
      "0.3038839\n",
      "0.3081434\n",
      "0.2223422\n",
      "0.2174309\n",
      "0.3433667\n",
      "0.2893567\n",
      "0.3067543\n",
      "0.3017654\n",
      "0.2825222\n",
      "0.2950801\n",
      "0.3333445\n"
     ]
    }
   ],
   "source": [
    "getNRMSD(evaluate_folder='./output/iterative_imputer_decisiontree_iter10')"
   ]
  },
  {
   "cell_type": "code",
   "execution_count": 16,
   "metadata": {},
   "outputs": [
    {
     "name": "stdout",
     "output_type": "stream",
     "text": [
      "0.1968024\n",
      "0.2497364\n",
      "0.2262959\n",
      "0.2153622\n",
      "0.1706644\n",
      "0.1712975\n",
      "0.2589374\n",
      "0.2082252\n",
      "0.2376789\n",
      "0.2272971\n",
      "0.1906942\n",
      "0.2181151\n",
      "0.2727554\n"
     ]
    }
   ],
   "source": [
    "getNRMSD(evaluate_folder='./output/iterative_imputer_extratrees_iter10') # n_estimator=10"
   ]
  },
  {
   "cell_type": "code",
   "execution_count": 21,
   "metadata": {},
   "outputs": [
    {
     "name": "stdout",
     "output_type": "stream",
     "text": [
      "0.1904679\n",
      "0.2450649\n",
      "0.2202586\n",
      "0.2082879\n",
      "0.1634703\n",
      "0.1626266\n",
      "0.2532079\n",
      "0.1985897\n",
      "0.2307282\n",
      "0.2176166\n",
      "0.1846658\n",
      "0.2129685\n",
      "0.2675998\n"
     ]
    }
   ],
   "source": [
    "getNRMSD(evaluate_folder='./output/iterative_imputer_extratrees_iter10') # n_estimator=30"
   ]
  },
  {
   "cell_type": "code",
   "execution_count": 20,
   "metadata": {},
   "outputs": [
    {
     "name": "stdout",
     "output_type": "stream",
     "text": [
      "0.1967022\n",
      "0.2498321\n",
      "0.2263579\n",
      "0.2154617\n",
      "0.1705750\n",
      "0.1712728\n",
      "0.2588888\n",
      "0.2080349\n",
      "0.2377062\n",
      "0.2272654\n",
      "0.1907254\n",
      "0.2180653\n",
      "0.2728042\n"
     ]
    }
   ],
   "source": [
    "getNRMSD(evaluate_folder='./output/iterative_imputer_extratrees_iter20') # n_estimator=10"
   ]
  },
  {
   "cell_type": "code",
   "execution_count": 22,
   "metadata": {},
   "outputs": [
    {
     "name": "stdout",
     "output_type": "stream",
     "text": [
      "0.1898048\n",
      "0.2441955\n",
      "0.2187155\n",
      "0.2068985\n",
      "0.1621889\n",
      "0.1604049\n",
      "0.2518338\n",
      "0.1976652\n",
      "0.2299013\n",
      "0.2153219\n",
      "0.1828935\n",
      "0.2118282\n",
      "0.2661824\n"
     ]
    }
   ],
   "source": [
    "getNRMSD(evaluate_folder='./output/iterative_imputer_extratrees_iter20') # n_estimator=50"
   ]
  },
  {
   "cell_type": "code",
   "execution_count": 23,
   "metadata": {},
   "outputs": [
    {
     "name": "stdout",
     "output_type": "stream",
     "text": [
      "0.1884015\n",
      "0.2434857\n",
      "0.2178681\n",
      "0.2058739\n",
      "0.1611736\n",
      "0.1592727\n",
      "0.2513498\n",
      "0.1969766\n",
      "0.2291085\n",
      "0.2151489\n",
      "0.1830385\n",
      "0.2110770\n",
      "0.2652280\n"
     ]
    }
   ],
   "source": [
    "getNRMSD(evaluate_folder='./output/iterative_imputer_extratrees_iter30') # n_estimator=100"
   ]
  },
  {
   "cell_type": "code",
   "execution_count": 29,
   "metadata": {},
   "outputs": [
    {
     "name": "stdout",
     "output_type": "stream",
     "text": [
      "0.1878189\n",
      "0.2432266\n",
      "0.2178202\n",
      "0.2058049\n",
      "0.1598266\n",
      "0.1585651\n",
      "0.2504570\n",
      "0.1964930\n",
      "0.2288118\n",
      "0.2147213\n",
      "0.1827602\n",
      "0.2105648\n",
      "0.2654654\n"
     ]
    }
   ],
   "source": [
    "getNRMSD(evaluate_folder='./output/iterative_imputer_extratrees_iter40') # n_estimator=200"
   ]
  },
  {
   "cell_type": "code",
   "execution_count": 19,
   "metadata": {},
   "outputs": [
    {
     "name": "stdout",
     "output_type": "stream",
     "text": [
      "0.2244613\n",
      "0.2506186\n",
      "0.2343176\n",
      "0.2346219\n",
      "0.2420352\n",
      "0.2456897\n",
      "0.2602387\n",
      "0.2153972\n",
      "0.2500625\n",
      "0.2245366\n",
      "0.2060163\n",
      "0.2338331\n",
      "0.2677616\n"
     ]
    }
   ],
   "source": [
    "getNRMSD(evaluate_folder='./output/iterative_imputer_knn_iter10')"
   ]
  },
  {
   "cell_type": "code",
   "execution_count": 32,
   "metadata": {},
   "outputs": [
    {
     "name": "stdout",
     "output_type": "stream",
     "text": [
      "0.3960582\n",
      "0.3680454\n",
      "0.3999905\n",
      "0.4051930\n",
      "0.3839431\n",
      "0.3921046\n",
      "0.4169947\n",
      "0.4270917\n",
      "0.4037846\n",
      "0.4278000\n",
      "0.4164445\n",
      "0.4109108\n",
      "0.3709862\n"
     ]
    }
   ],
   "source": [
    "getNRMSD(evaluate_folder='./output/impyute_em') # loops = 50"
   ]
  },
  {
   "cell_type": "code",
   "execution_count": 33,
   "metadata": {},
   "outputs": [
    {
     "name": "stdout",
     "output_type": "stream",
     "text": [
      "0.4008526\n",
      "0.3719464\n",
      "0.3995698\n",
      "0.4043380\n",
      "0.3834534\n",
      "0.3937475\n",
      "0.4224712\n",
      "0.4207917\n",
      "0.4019474\n",
      "0.4312035\n",
      "0.4172254\n",
      "0.4047938\n",
      "0.3740687\n"
     ]
    }
   ],
   "source": [
    "getNRMSD(evaluate_folder='./output/impyute_em_loops100')"
   ]
  },
  {
   "cell_type": "code",
   "execution_count": 34,
   "metadata": {},
   "outputs": [
    {
     "name": "stdout",
     "output_type": "stream",
     "text": [
      "0.3963290\n",
      "0.3657744\n",
      "0.3945820\n",
      "0.3976214\n",
      "0.3879777\n",
      "0.3888824\n",
      "0.4254750\n",
      "0.4282693\n",
      "0.4016424\n",
      "0.4285451\n",
      "0.4171149\n",
      "0.4024682\n",
      "0.3756146\n"
     ]
    }
   ],
   "source": [
    "getNRMSD(evaluate_folder='./output/impyute_em_loops10')"
   ]
  },
  {
   "cell_type": "code",
   "execution_count": 3,
   "metadata": {},
   "outputs": [
    {
     "name": "stdout",
     "output_type": "stream",
     "text": [
      "0.1878189\n",
      "0.2432266\n",
      "0.2178202\n",
      "0.2058049\n",
      "0.1467821\n",
      "0.1455925\n",
      "0.2504570\n",
      "0.1964930\n",
      "0.2288118\n",
      "0.2147213\n",
      "0.1827602\n",
      "0.2105648\n",
      "0.2654654\n"
     ]
    }
   ],
   "source": [
    "getNRMSD(evaluate_folder='./output/mice_extratrees_40')"
   ]
  },
  {
   "cell_type": "code",
   "execution_count": 3,
   "metadata": {},
   "outputs": [
    {
     "name": "stdout",
     "output_type": "stream",
     "text": [
      "0.2028953\n",
      "0.2625016\n",
      "0.2355701\n",
      "0.2175615\n",
      "0.1472480\n",
      "0.1457425\n",
      "0.2708484\n",
      "0.2311107\n",
      "0.2593303\n",
      "0.2484262\n",
      "0.1901919\n",
      "0.2330045\n",
      "0.2771246\n"
     ]
    }
   ],
   "source": [
    "getNRMSD(evaluate_folder='./output/mice_output')"
   ]
  },
  {
   "cell_type": "code",
   "execution_count": 2,
   "metadata": {},
   "outputs": [
    {
     "name": "stdout",
     "output_type": "stream",
     "text": [
      "0.2016291\n",
      "0.2622996\n",
      "0.2369106\n",
      "0.2170258\n",
      "0.1471117\n",
      "0.1444992\n",
      "0.2695497\n",
      "0.2316944\n",
      "0.2594241\n",
      "0.2484419\n",
      "0.1894197\n",
      "0.2317653\n",
      "0.2769907\n"
     ]
    }
   ],
   "source": [
    "getNRMSD(evaluate_folder='./output/3d-mice')"
   ]
  },
  {
   "cell_type": "code",
   "execution_count": null,
   "metadata": {},
   "outputs": [],
   "source": []
  }
 ],
 "metadata": {
  "kernelspec": {
   "display_name": "Python 3",
   "language": "python",
   "name": "python3"
  },
  "language_info": {
   "codemirror_mode": {
    "name": "ipython",
    "version": 3
   },
   "file_extension": ".py",
   "mimetype": "text/x-python",
   "name": "python",
   "nbconvert_exporter": "python",
   "pygments_lexer": "ipython3",
   "version": "3.6.8"
  }
 },
 "nbformat": 4,
 "nbformat_minor": 2
}
